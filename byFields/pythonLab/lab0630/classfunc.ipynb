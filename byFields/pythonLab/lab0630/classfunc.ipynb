{
 "cells": [
  {
   "cell_type": "markdown",
   "id": "4ebafdfd",
   "metadata": {},
   "source": [
    "##### Class Decorator\n",
    "- We are going to use `students` array as class variable and append students into it.\n",
    "- `@classmethod`\n",
    "- initiator(constructor) is going to append students into `students` array"
   ]
  },
  {
   "cell_type": "code",
   "execution_count": 17,
   "id": "7093ff44",
   "metadata": {},
   "outputs": [],
   "source": [
    "class Student:\n",
    "    # Class Variable\n",
    "    count = 0\n",
    "    students = []\n",
    "\n",
    "    def __init__(self, name, korean, math, english, science):\n",
    "        self.name = name\n",
    "        self.korean = korean\n",
    "        self.math = math\n",
    "        self.english = english\n",
    "        self.science = science\n",
    "\n",
    "        Student.count += 1\n",
    "        Student.students.append(self)\n",
    "\n",
    "    def score_sum(self):\n",
    "        return self.korean + self.math + self.english + self.science\n",
    "    \n",
    "    def score_avg(self):\n",
    "        return self.score_sum() / 4\n",
    "\n",
    "    def __str__(self):\n",
    "        return f\"{self.name}\\t{self.score_sum()}\\t{self.score_avg()}\"\n",
    "\n",
    "    @classmethod\n",
    "    def print(cls):\n",
    "        print(\"----- Student List -----\")\n",
    "        print(\"Name\",\"Sum\",\"Avg\",sep='\\t')\n",
    "        for student in cls.students:\n",
    "            print(student)\n",
    "        print(\"------------------------\")"
   ]
  },
  {
   "cell_type": "markdown",
   "id": "fdcb6e92",
   "metadata": {},
   "source": [
    "##### look at this\n",
    "- `@classmethod` -> class decorator?\n",
    "- `__str__(self)` -> what?"
   ]
  },
  {
   "cell_type": "markdown",
   "id": "7f6aa9ea",
   "metadata": {},
   "source": [
    "##### Example Student List\n",
    "- name, english, math, science"
   ]
  },
  {
   "cell_type": "code",
   "execution_count": 18,
   "id": "1255a035",
   "metadata": {},
   "outputs": [
    {
     "data": {
      "text/plain": [
       "<__main__.Student at 0x7715bc2d7430>"
      ]
     },
     "execution_count": 18,
     "metadata": {},
     "output_type": "execute_result"
    }
   ],
   "source": [
    "Student(\"Gildong\", 80, 90, 88, 64)\n",
    "Student(\"Chulsoo\", 156, 7918, 31, 64)"
   ]
  },
  {
   "cell_type": "code",
   "execution_count": 19,
   "id": "6bf52cba",
   "metadata": {},
   "outputs": [
    {
     "name": "stdout",
     "output_type": "stream",
     "text": [
      "----- Student List -----\n",
      "Name\tSum\tAvg\n",
      "Gildong\t322\t80.5\n",
      "Chulsoo\t8169\t2042.25\n",
      "------------------------\n"
     ]
    }
   ],
   "source": [
    "Student.print()"
   ]
  }
 ],
 "metadata": {
  "kernelspec": {
   "display_name": ".awspython",
   "language": "python",
   "name": "python3"
  },
  "language_info": {
   "codemirror_mode": {
    "name": "ipython",
    "version": 3
   },
   "file_extension": ".py",
   "mimetype": "text/x-python",
   "name": "python",
   "nbconvert_exporter": "python",
   "pygments_lexer": "ipython3",
   "version": "3.10.12"
  }
 },
 "nbformat": 4,
 "nbformat_minor": 5
}
