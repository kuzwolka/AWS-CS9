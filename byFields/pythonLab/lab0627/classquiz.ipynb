{
 "cells": [
  {
   "cell_type": "markdown",
   "id": "69c4342f",
   "metadata": {},
   "source": [
    "#### PROB 1\n",
    "다음의 결과가 출력되도록 class를 작성하세요.\n",
    "- Audi's current speed is 0\n",
    "- Benz's current speed is 30\n",
    "\n",
    "매개변수를 사용하여 이름과 속도의 초기값을 아두이와 벤츠가 각각 0, 30이 되도록 생성자를 사용합니다"
   ]
  },
  {
   "cell_type": "code",
   "execution_count": 1,
   "id": "e93a7d23",
   "metadata": {},
   "outputs": [
    {
     "name": "stdout",
     "output_type": "stream",
     "text": [
      "Audi's current speed is 0\n",
      "Benz's current speed is 30\n"
     ]
    }
   ],
   "source": [
    "class Car:\n",
    "    def __init__(self, name, speed):\n",
    "        self.name = name\n",
    "        self.speed = speed\n",
    "    \n",
    "    def printer(self):\n",
    "        print(f\"{self.name}'s current speed is {self.speed}\")\n",
    "\n",
    "cars = [\n",
    "    Car(\"Audi\", \"0\"),\n",
    "    Car(\"Benz\", \"30\")]\n",
    "\n",
    "for x in cars:\n",
    "    x.printer()"
   ]
  },
  {
   "cell_type": "markdown",
   "id": "89224433",
   "metadata": {},
   "source": [
    "---\n",
    "#### PROB 2\n",
    "adsf"
   ]
  },
  {
   "cell_type": "code",
   "execution_count": null,
   "id": "87b45cca",
   "metadata": {},
   "outputs": [],
   "source": []
  }
 ],
 "metadata": {
  "kernelspec": {
   "display_name": ".awspython",
   "language": "python",
   "name": "python3"
  },
  "language_info": {
   "codemirror_mode": {
    "name": "ipython",
    "version": 3
   },
   "file_extension": ".py",
   "mimetype": "text/x-python",
   "name": "python",
   "nbconvert_exporter": "python",
   "pygments_lexer": "ipython3",
   "version": "3.10.12"
  }
 },
 "nbformat": 4,
 "nbformat_minor": 5
}
