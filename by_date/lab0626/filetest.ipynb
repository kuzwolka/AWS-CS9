{
 "cells": [
  {
   "cell_type": "markdown",
   "id": "fb543ad7",
   "metadata": {},
   "source": [
    "#### 파일 생성 실습"
   ]
  },
  {
   "cell_type": "code",
   "execution_count": 12,
   "id": "d646958c",
   "metadata": {},
   "outputs": [],
   "source": [
    "import json, os"
   ]
  },
  {
   "cell_type": "markdown",
   "id": "a6d70820",
   "metadata": {},
   "source": [
    "파일 이름 설정"
   ]
  },
  {
   "cell_type": "code",
   "execution_count": 13,
   "id": "c3c6428a",
   "metadata": {},
   "outputs": [],
   "source": [
    "FILE_NAME = 'projfile/myfile.json'"
   ]
  },
  {
   "cell_type": "markdown",
   "id": "37f52e8d",
   "metadata": {},
   "source": [
    "---\n",
    "#### 파일 존재 여부에 따른 작업\n",
    "\n",
    "아래 코드 설명\n",
    "- 파일존재하면 파일을 readmode로 열음\n",
    "    - 열린 파일을 읽어서 todos라는 리스트에 담음\n",
    "- 파일이 존재하지 않으면 ...\n",
    "    - todos 리스트만 생성\n",
    "- with를 사용해서 open할 경우 따로 close()를 사용할 필요가 없음"
   ]
  },
  {
   "cell_type": "code",
   "execution_count": 14,
   "id": "1308aae1",
   "metadata": {},
   "outputs": [],
   "source": [
    "if os.path.exists(FILE_NAME):\n",
    "    with open(FILE_NAME, \"r\") as f:\n",
    "        todos = json.load(f)\n",
    "else:\n",
    "    todos = []"
   ]
  },
  {
   "cell_type": "markdown",
   "id": "a5619316",
   "metadata": {},
   "source": [
    "---\n",
    "#### 사용자에게 데이터 입력 받기\n",
    "사용자에게 받은 입력을 todos 리스트에 추가"
   ]
  },
  {
   "cell_type": "code",
   "execution_count": 15,
   "id": "0421211c",
   "metadata": {},
   "outputs": [],
   "source": [
    "data = input(\"데이터 작성: \")\n",
    "todos.append(data)"
   ]
  },
  {
   "cell_type": "markdown",
   "id": "7df3ea53",
   "metadata": {},
   "source": [
    "---\n",
    "#### 파일에 todos 작성\n",
    "파일 wirte 모드로 열어서 `json.dump`로 `f` 객체에 dump. 추가로 들여쓰기는 `indent=2` 설정.\n",
    "\n",
    "`encoding='UTF-8'`\n",
    "- ENCODING UTF-8로 설정\n",
    "\n",
    "`ensure_ascii=False`\n",
    "- `True`일 경우 ascii 문자가 아닌 다른 모든 문자는 escape 문자(`'\\'`)로 표현돼서 저장된다."
   ]
  },
  {
   "cell_type": "code",
   "execution_count": 16,
   "id": "c657c94a",
   "metadata": {},
   "outputs": [],
   "source": [
    "with open(FILE_NAME, 'w', encoding='UTF-8') as f:\n",
    "    json.dump(todos, f, ensure_ascii=False, indent=2)"
   ]
  }
 ],
 "metadata": {
  "kernelspec": {
   "display_name": ".awspython",
   "language": "python",
   "name": "python3"
  },
  "language_info": {
   "codemirror_mode": {
    "name": "ipython",
    "version": 3
   },
   "file_extension": ".py",
   "mimetype": "text/x-python",
   "name": "python",
   "nbconvert_exporter": "python",
   "pygments_lexer": "ipython3",
   "version": "3.10.12"
  }
 },
 "nbformat": 4,
 "nbformat_minor": 5
}
