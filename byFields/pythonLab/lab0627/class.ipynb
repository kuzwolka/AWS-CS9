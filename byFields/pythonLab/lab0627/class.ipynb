{
 "cells": [
  {
   "cell_type": "markdown",
   "id": "add9f4bd",
   "metadata": {},
   "source": [
    "## CLASS\n",
    "- ##### 클래스란? 일종의 설계도\n",
    "    - 예를 들어 자동차라면...\n",
    "        - 자동차의 속성(object)\n",
    "            - 자동차의 색상\n",
    "            - 자동차의 속도\n",
    "        - 자동차의 기능(method)\n",
    "            - 속도 올리기()\n",
    "            - 속도 내리기()\n",
    "        - 예시 코드(뼈대)\n",
    "            ```\n",
    "            class Car:\n",
    "                color = ''\n",
    "                speed = 0\n",
    "\n",
    "                def upSpeed(self, value):\n",
    "                    self.speed += value\n",
    "                def downSpeed(self, value):\n",
    "                    self.speed -= value\n",
    "\n",
    "            ```\n",
    "    - 메서드에 관하여\n",
    "        - 메서드의 첫 매개변수로 self를 넣는 것은 자신의 변수에 접근하기 위함\n",
    "        - 클래스 내부에서 동작하기 위해 작성하는 것이므로 함수 호출시 따로 명시해줄 필요가 없음\n",
    "- ##### Instance(객체)\n",
    "    - 클래스를 바탕으로 생성하는 객체\n",
    "    - 앞선 Car 클래스로 인스턴스 생성\n",
    "        - `myCar1 = Car()`"
   ]
  },
  {
   "cell_type": "markdown",
   "id": "9f39d03c",
   "metadata": {},
   "source": [
    "---\n",
    "## Decorator\n",
    "- 기존 함수를 수정하지 않고 추가 기능을 부여하는 도구\n",
    "- 함수를 꾸미는 것\n",
    "- `@어쩌구`로 하는 것 처럼"
   ]
  },
  {
   "cell_type": "markdown",
   "id": "89304431",
   "metadata": {},
   "source": [
    "---\n",
    "##### Car Class 정의"
   ]
  },
  {
   "cell_type": "code",
   "execution_count": 1,
   "id": "799583ae",
   "metadata": {},
   "outputs": [],
   "source": [
    "class Car:\n",
    "    # Variable\n",
    "    color = ''\n",
    "    speed = 0\n",
    "\n",
    "    # Method\n",
    "    def upSpeed(self, value):\n",
    "        self.speed += value\n",
    "    def downSpeed(self, value):\n",
    "        self.speed -= value"
   ]
  },
  {
   "cell_type": "markdown",
   "id": "138d1994",
   "metadata": {},
   "source": [
    "##### myCar instance 생성"
   ]
  },
  {
   "cell_type": "code",
   "execution_count": 2,
   "id": "21132d0c",
   "metadata": {},
   "outputs": [],
   "source": [
    "myCar1 = Car()\n",
    "myCar2 = Car()\n",
    "myCar3 = Car()"
   ]
  },
  {
   "cell_type": "markdown",
   "id": "d2e5229d",
   "metadata": {},
   "source": [
    "##### myCar instance 조작"
   ]
  },
  {
   "cell_type": "code",
   "execution_count": 9,
   "id": "ce256b3c",
   "metadata": {},
   "outputs": [
    {
     "name": "stdout",
     "output_type": "stream",
     "text": [
      "My car's color: Black\n",
      "My car's current speed: 30\n"
     ]
    }
   ],
   "source": [
    "myCar1.color = 'Black'\n",
    "myCar2.color = 'Red'\n",
    "myCar3.color = 'White'\n",
    "myCar1.upSpeed(30)\n",
    "\n",
    "print(f\"My car's color: {myCar1.color}\\nMy car's current speed: {myCar1.speed}\")"
   ]
  },
  {
   "cell_type": "markdown",
   "id": "6cc7e463",
   "metadata": {},
   "source": [
    "---\n",
    "#### Constructor\n",
    "- method that gets **called whenever instance is created from corresponding class**\n",
    "- with the car class example\n",
    "    - can be used to \n",
    "- **basic structure**( = default constructor )\n",
    "    - `__init__()`\n",
    "    - code example\n",
    "        ```\n",
    "        class Car:\n",
    "            color = \"\"\n",
    "            speed = 0\n",
    "\n",
    "        def __init(self):\n",
    "            self.color = \"Red\"\n",
    "            self.speed = 0\n",
    "        ```\n",
    "- ##### Constructor with Parameter\n",
    "    - basic structure\n",
    "        ```\n",
    "        class Car:\n",
    "            color = \"\"\n",
    "            speed = 0\n",
    "\n",
    "        def __init(self, value1, value2):\n",
    "            self.color = value1\n",
    "            self.speed = value2\n",
    "        ```\n",
    "    - Instance creation\n",
    "        ```\n",
    "        myCar1 = Car(\"red\", 30)\n",
    "        ```"
   ]
  },
  {
   "cell_type": "markdown",
   "id": "89048390",
   "metadata": {},
   "source": [
    "Car class definition:"
   ]
  },
  {
   "cell_type": "code",
   "execution_count": 10,
   "id": "dd98129d",
   "metadata": {},
   "outputs": [],
   "source": [
    "class Car:\n",
    "    # Variable\n",
    "    color = ''\n",
    "    speed = 0\n",
    "\n",
    "    # Constuctor\n",
    "    def __init__(self, x, y):\n",
    "        self.color = x\n",
    "        self.speed = y\n",
    "\n",
    "    # Method\n",
    "    def upSpeed(self, value):\n",
    "        self.speed += value\n",
    "    def downSpeed(self, value):\n",
    "        self.speed -= value"
   ]
  },
  {
   "cell_type": "markdown",
   "id": "4585e174",
   "metadata": {},
   "source": [
    "Car instance initialization with color White and speed 66"
   ]
  },
  {
   "cell_type": "code",
   "execution_count": 11,
   "id": "cd43f7e9",
   "metadata": {},
   "outputs": [],
   "source": [
    "myCar4 = Car(\"White\", 66)"
   ]
  },
  {
   "cell_type": "markdown",
   "id": "a4c38def",
   "metadata": {},
   "source": [
    "printing out initialized myCar4 instance"
   ]
  },
  {
   "cell_type": "code",
   "execution_count": 12,
   "id": "d085c3b9",
   "metadata": {},
   "outputs": [
    {
     "name": "stdout",
     "output_type": "stream",
     "text": [
      "My car4's color: White\n",
      "My car4's current speed: 66\n"
     ]
    }
   ],
   "source": [
    "print(f\"My car4's color: {myCar4.color}\\nMy car4's current speed: {myCar4.speed}\")"
   ]
  }
 ],
 "metadata": {
  "kernelspec": {
   "display_name": ".awspython",
   "language": "python",
   "name": "python3"
  },
  "language_info": {
   "codemirror_mode": {
    "name": "ipython",
    "version": 3
   },
   "file_extension": ".py",
   "mimetype": "text/x-python",
   "name": "python",
   "nbconvert_exporter": "python",
   "pygments_lexer": "ipython3",
   "version": "3.10.12"
  }
 },
 "nbformat": 4,
 "nbformat_minor": 5
}
