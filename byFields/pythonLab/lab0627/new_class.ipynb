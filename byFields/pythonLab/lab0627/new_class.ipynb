{
 "cells": [
  {
   "cell_type": "markdown",
   "id": "8193c203",
   "metadata": {},
   "source": [
    "#### Chekc if specific instance is from Class"
   ]
  },
  {
   "cell_type": "code",
   "execution_count": 3,
   "id": "7db83a1f",
   "metadata": {},
   "outputs": [
    {
     "name": "stdout",
     "output_type": "stream",
     "text": [
      "I'm a student\n",
      "I'm a student\n",
      "i'm a teacher\n"
     ]
    }
   ],
   "source": [
    "class Human:\n",
    "    def __init__(self, name, age):\n",
    "        self.name = name\n",
    "        self.age = age\n",
    "\n",
    "class Student(Human):\n",
    "    def study(self):\n",
    "        print(\"I'm a student\")\n",
    "\n",
    "class Teacher(Human):\n",
    "    def teach(self):\n",
    "        print(\"i'm a teacher\")\n",
    "\n",
    "classroom = [\n",
    "    Student(\"Tom\", 12),\n",
    "    Student(\"Julie\", 45),\n",
    "    Teacher(\"Kim\", 7)\n",
    "]\n",
    "\n",
    "for person in classroom:\n",
    "    if isinstance(person, Student):\n",
    "        person.study()\n",
    "    else:\n",
    "        person.teach()\n"
   ]
  },
  {
   "cell_type": "code",
   "execution_count": null,
   "id": "aa5939a1",
   "metadata": {},
   "outputs": [],
   "source": []
  }
 ],
 "metadata": {
  "kernelspec": {
   "display_name": ".awspython",
   "language": "python",
   "name": "python3"
  },
  "language_info": {
   "codemirror_mode": {
    "name": "ipython",
    "version": 3
   },
   "file_extension": ".py",
   "mimetype": "text/x-python",
   "name": "python",
   "nbconvert_exporter": "python",
   "pygments_lexer": "ipython3",
   "version": "3.10.12"
  }
 },
 "nbformat": 4,
 "nbformat_minor": 5
}
