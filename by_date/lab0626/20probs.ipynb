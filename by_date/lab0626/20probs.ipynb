{
 "cells": [
  {
   "cell_type": "markdown",
   "id": "3fe6b88f",
   "metadata": {},
   "source": [
    "---\n",
    "### PROB 1\n",
    "숫자 두 개를 입력받아 합을 구하세요."
   ]
  },
  {
   "cell_type": "code",
   "execution_count": 3,
   "id": "5c6badeb",
   "metadata": {},
   "outputs": [
    {
     "name": "stdout",
     "output_type": "stream",
     "text": [
      "3\n"
     ]
    }
   ],
   "source": [
    "a,b=map(int, input(\"ex) 1,2 =>\").split(','))\n",
    "print(a+b)"
   ]
  },
  {
   "cell_type": "markdown",
   "id": "714d501c",
   "metadata": {},
   "source": [
    "---\n",
    "### PROB 2\n",
    "입력받은 문자열의 길이를 출력하세요."
   ]
  },
  {
   "cell_type": "code",
   "execution_count": 4,
   "id": "9dff43b4",
   "metadata": {},
   "outputs": [
    {
     "name": "stdout",
     "output_type": "stream",
     "text": [
      "7\n"
     ]
    }
   ],
   "source": [
    "a=input(\"give me some string: \")\n",
    "print(len(a))"
   ]
  },
  {
   "cell_type": "markdown",
   "id": "bb7b75fc",
   "metadata": {},
   "source": [
    "---\n",
    "### PROB 3\n",
    "리스트에 있는 숫자들의 평균을 구하세요."
   ]
  },
  {
   "cell_type": "code",
   "execution_count": 5,
   "id": "753bc217",
   "metadata": {},
   "outputs": [
    {
     "name": "stdout",
     "output_type": "stream",
     "text": [
      "30.0\n"
     ]
    }
   ],
   "source": [
    "numbers = [10, 20, 30, 40, 50]\n",
    "print(sum(numbers)/len(numbers))"
   ]
  },
  {
   "cell_type": "markdown",
   "id": "0028f345",
   "metadata": {},
   "source": [
    "---\n",
    "### PROB 4\n",
    "입력받은 숫자가 짝수인지 홀수인지 판별하세요."
   ]
  },
  {
   "cell_type": "code",
   "execution_count": 6,
   "id": "5af55709",
   "metadata": {},
   "outputs": [
    {
     "name": "stdout",
     "output_type": "stream",
     "text": [
      "even\n"
     ]
    }
   ],
   "source": [
    "a=int(input(\"give me some int: \"))\n",
    "print(\"odd\" if a%2!=0 else \"even\")"
   ]
  },
  {
   "cell_type": "markdown",
   "id": "d7fa3fb6",
   "metadata": {},
   "source": [
    "---\n",
    "### PROB 5\n",
    "1부터 10까지 출력하세요."
   ]
  },
  {
   "cell_type": "code",
   "execution_count": 7,
   "id": "7b1a20f5",
   "metadata": {},
   "outputs": [
    {
     "name": "stdout",
     "output_type": "stream",
     "text": [
      "1 2 3 4 5 6 7 8 9 10 "
     ]
    }
   ],
   "source": [
    "for i in range(1,11):\n",
    "    print(i, end=\" \")"
   ]
  },
  {
   "cell_type": "markdown",
   "id": "4dfb167a",
   "metadata": {},
   "source": [
    "---\n",
    "### PROB 6\n",
    "1부터 100까지의 합을 출력하세요."
   ]
  },
  {
   "cell_type": "code",
   "execution_count": 8,
   "id": "b7c978aa",
   "metadata": {},
   "outputs": [
    {
     "name": "stdout",
     "output_type": "stream",
     "text": [
      "5050\n"
     ]
    }
   ],
   "source": [
    "print(sum([i for i in range(1,101)]))"
   ]
  },
  {
   "cell_type": "markdown",
   "id": "bb9f463a",
   "metadata": {},
   "source": [
    "---\n",
    "### PROB 7\n",
    "입력받은 단수의 구구단을 출력하세요."
   ]
  },
  {
   "cell_type": "code",
   "execution_count": 9,
   "id": "60745bff",
   "metadata": {},
   "outputs": [
    {
     "name": "stdout",
     "output_type": "stream",
     "text": [
      "12 * 1 = 12\n",
      "12 * 2 = 24\n",
      "12 * 3 = 36\n",
      "12 * 4 = 48\n",
      "12 * 5 = 60\n",
      "12 * 6 = 72\n",
      "12 * 7 = 84\n",
      "12 * 8 = 96\n",
      "12 * 9 = 108\n"
     ]
    }
   ],
   "source": [
    "a = int(input(\"give me some int: \"))\n",
    "for i in range(1,10):\n",
    "    print(f\"{a} * {i} = {a*i}\")"
   ]
  },
  {
   "cell_type": "markdown",
   "id": "c1f61fe8",
   "metadata": {},
   "source": [
    "---\n",
    "### PROB 8\n",
    "문자열에서 모음(a, e, i, o, u)의 개수를 세요."
   ]
  },
  {
   "cell_type": "code",
   "execution_count": 10,
   "id": "2edb9702",
   "metadata": {},
   "outputs": [
    {
     "name": "stdout",
     "output_type": "stream",
     "text": [
      "2\n"
     ]
    }
   ],
   "source": [
    "vow = ['a', 'e', 'i', 'o', 'u']\n",
    "res = 0\n",
    "inp = input(\"give me some string: \")\n",
    "for x in vow:\n",
    "    res += inp.count(x)\n",
    "print(res)"
   ]
  },
  {
   "cell_type": "markdown",
   "id": "ae820c22",
   "metadata": {},
   "source": [
    "---\n",
    "### PROB 9\n",
    "리스트에서 짝수만 출력하세요"
   ]
  },
  {
   "cell_type": "code",
   "execution_count": 13,
   "id": "cfc3f1a6",
   "metadata": {},
   "outputs": [
    {
     "name": "stdout",
     "output_type": "stream",
     "text": [
      " 2  4  6 "
     ]
    }
   ],
   "source": [
    "nums = [1, 2, 3, 4, 5, 6]\n",
    "for x in nums:\n",
    "    print(f\"{x}\" if x%2==0 else \"\", end=\" \")"
   ]
  },
  {
   "cell_type": "markdown",
   "id": "92b00729",
   "metadata": {},
   "source": [
    "---\n",
    "### PROB 10\n",
    "5개의 숫자를 입력받아 리스트에 저장하고 출력하세요.(한번에 숫자 하나씩만 받으세요)"
   ]
  },
  {
   "cell_type": "code",
   "execution_count": 12,
   "id": "e07708a5",
   "metadata": {},
   "outputs": [
    {
     "name": "stdout",
     "output_type": "stream",
     "text": [
      "[1, 2, 3, 4, 5]\n"
     ]
    }
   ],
   "source": [
    "res = []\n",
    "for i in range(5):\n",
    "    a = int(input(\"get me an integer: \"))\n",
    "    res.append(a)\n",
    "print(res)"
   ]
  },
  {
   "cell_type": "markdown",
   "id": "ed8210cc",
   "metadata": {},
   "source": [
    "---\n",
    "### PROB 11\n",
    "리스트에 있는 값 중 최대값을 찾으세요."
   ]
  },
  {
   "cell_type": "code",
   "execution_count": 14,
   "id": "3b3271c7",
   "metadata": {},
   "outputs": [
    {
     "name": "stdout",
     "output_type": "stream",
     "text": [
      "9\n"
     ]
    }
   ],
   "source": [
    "nums = [3, 7, 1, 9, 4]\n",
    "print(max(nums))"
   ]
  },
  {
   "cell_type": "markdown",
   "id": "d6f2c948",
   "metadata": {},
   "source": [
    "---\n",
    "### PROB 12\n",
    "비밀번호가 '1234'일 경우 \"접속 성공\", 아니면 \"접속 실패\"를 출력하세요."
   ]
  },
  {
   "cell_type": "code",
   "execution_count": 15,
   "id": "9a27a31b",
   "metadata": {},
   "outputs": [
    {
     "name": "stdout",
     "output_type": "stream",
     "text": [
      "success\n"
     ]
    }
   ],
   "source": [
    "a = input(\"get me password: \")\n",
    "print(\"success\" if a=='1234' else \"fail\")"
   ]
  },
  {
   "cell_type": "markdown",
   "id": "2af289e2",
   "metadata": {},
   "source": [
    "---\n",
    "### PROB 13\n",
    "while문을 이용해 1부터 5까지 출력하세요."
   ]
  },
  {
   "cell_type": "code",
   "execution_count": 16,
   "id": "caea0b28",
   "metadata": {},
   "outputs": [
    {
     "name": "stdout",
     "output_type": "stream",
     "text": [
      "1 2 3 4 5 "
     ]
    }
   ],
   "source": [
    "i=1\n",
    "while(i<6):\n",
    "   print(i, end=\" \")\n",
    "   i+=1"
   ]
  },
  {
   "cell_type": "markdown",
   "id": "769e69c0",
   "metadata": {},
   "source": [
    "---\n",
    "### PROB 14\n",
    "입력받은 문자열을 거꾸로 출력하세요. (인덱싱 이용)"
   ]
  },
  {
   "cell_type": "code",
   "execution_count": 17,
   "id": "6948e711",
   "metadata": {},
   "outputs": [
    {
     "name": "stdout",
     "output_type": "stream",
     "text": [
      "ukafukaf\n"
     ]
    }
   ],
   "source": [
    "a = input(\"get me string: \")\n",
    "print(a[::-1])"
   ]
  },
  {
   "cell_type": "markdown",
   "id": "22319e2b",
   "metadata": {},
   "source": [
    "---\n",
    "### PROB 15\n",
    "리스트에서 중복을 제거하고 출력하세요. "
   ]
  },
  {
   "cell_type": "code",
   "execution_count": 18,
   "id": "84c8e697",
   "metadata": {},
   "outputs": [
    {
     "name": "stdout",
     "output_type": "stream",
     "text": [
      "[1, 2, 3, 4]\n"
     ]
    }
   ],
   "source": [
    "nums = [1, 2, 2, 3, 3, 3, 4]\n",
    "a = list(dict.fromkeys(nums).keys())\n",
    "print(a)"
   ]
  },
  {
   "cell_type": "markdown",
   "id": "0e67a729",
   "metadata": {},
   "source": [
    "---\n",
    "### PROB 16\n",
    "1부터 20까지 중 3의 배수만 출력하세요."
   ]
  },
  {
   "cell_type": "code",
   "execution_count": 19,
   "id": "eebcb508",
   "metadata": {},
   "outputs": [
    {
     "name": "stdout",
     "output_type": "stream",
     "text": [
      "[3, 6, 9, 12, 15, 18]\n"
     ]
    }
   ],
   "source": [
    "print([i for i in range(1,21) if i%3==0])"
   ]
  },
  {
   "cell_type": "markdown",
   "id": "9f2e3a71",
   "metadata": {},
   "source": [
    "---\n",
    "### PROB 17\n",
    "딕셔너리를 이용해 학생 점수를 저장하고 평균을 구하세요."
   ]
  },
  {
   "cell_type": "code",
   "execution_count": 20,
   "id": "c5cb31f6",
   "metadata": {},
   "outputs": [
    {
     "name": "stdout",
     "output_type": "stream",
     "text": [
      "80.0\n"
     ]
    }
   ],
   "source": [
    "scores = {'철수': 80, '영희': 90, '민수': 70}\n",
    "print(sum(scores.values())/len(scores))"
   ]
  },
  {
   "cell_type": "markdown",
   "id": "76e231a9",
   "metadata": {},
   "source": [
    "---\n",
    "### PROB 18\n",
    "단어 리스트에서 길이가 5 이상인 단어만 출력하세요."
   ]
  },
  {
   "cell_type": "code",
   "execution_count": 21,
   "id": "3c684a41",
   "metadata": {},
   "outputs": [
    {
     "name": "stdout",
     "output_type": "stream",
     "text": [
      "apple\n",
      "banana\n",
      "elephant\n"
     ]
    }
   ],
   "source": [
    "words = ['apple', 'banana', 'cat', 'elephant']\n",
    "for x in words:\n",
    "    if len(x) >= 5:\n",
    "        print(x)"
   ]
  },
  {
   "cell_type": "markdown",
   "id": "ad07c6b8",
   "metadata": {},
   "source": [
    "---\n",
    "### PROB 19\n",
    "10보다 큰 숫자가 몇 개인지 출력하세요."
   ]
  },
  {
   "cell_type": "code",
   "execution_count": 22,
   "id": "019ec556",
   "metadata": {},
   "outputs": [
    {
     "name": "stdout",
     "output_type": "stream",
     "text": [
      "3\n"
     ]
    }
   ],
   "source": [
    "nums = [5, 12, 3, 20, 7, 25]\n",
    "print(len([x for x in nums if x>10]))"
   ]
  },
  {
   "cell_type": "markdown",
   "id": "0c2e7ea8",
   "metadata": {},
   "source": [
    "---\n",
    "### PROB 20\n",
    "입력받은 숫자가 소수인지 판별하세요."
   ]
  },
  {
   "cell_type": "code",
   "execution_count": 23,
   "id": "22c066bb",
   "metadata": {},
   "outputs": [
    {
     "name": "stdout",
     "output_type": "stream",
     "text": [
      "odd\n"
     ]
    }
   ],
   "source": [
    "a = int(input())\n",
    "print(\"odd\" if a%2!=0 else \"even\")"
   ]
  }
 ],
 "metadata": {
  "kernelspec": {
   "display_name": ".awspython",
   "language": "python",
   "name": "python3"
  },
  "language_info": {
   "codemirror_mode": {
    "name": "ipython",
    "version": 3
   },
   "file_extension": ".py",
   "mimetype": "text/x-python",
   "name": "python",
   "nbconvert_exporter": "python",
   "pygments_lexer": "ipython3",
   "version": "3.10.12"
  }
 },
 "nbformat": 4,
 "nbformat_minor": 5
}
