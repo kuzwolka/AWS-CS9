{
 "cells": [
  {
   "cell_type": "markdown",
   "id": "b58f1738",
   "metadata": {},
   "source": [
    "##### 문제1. 사용자에게 입력 받은 단어의 개수 세기기"
   ]
  },
  {
   "cell_type": "code",
   "execution_count": 7,
   "id": "715651fe",
   "metadata": {},
   "outputs": [],
   "source": [
    "def count_w(sentence):\n",
    "    return len(sentence.split())"
   ]
  },
  {
   "cell_type": "code",
   "execution_count": 8,
   "id": "e5c88fac",
   "metadata": {},
   "outputs": [
    {
     "name": "stdout",
     "output_type": "stream",
     "text": [
      "6\n"
     ]
    }
   ],
   "source": [
    "print(count_w(\"hello all my name is gildong\"))"
   ]
  },
  {
   "cell_type": "markdown",
   "id": "872806b1",
   "metadata": {},
   "source": [
    "---\n",
    "##### 문제2. 리스트에서 짝수만 추출 출력한다. "
   ]
  },
  {
   "cell_type": "code",
   "execution_count": 9,
   "id": "7d7e6dcf",
   "metadata": {},
   "outputs": [],
   "source": [
    "def filter_even_numbers(listnum):\n",
    "    return [ n for n in listnum if n % 2 == 0]"
   ]
  },
  {
   "cell_type": "code",
   "execution_count": 10,
   "id": "c8188118",
   "metadata": {},
   "outputs": [
    {
     "name": "stdout",
     "output_type": "stream",
     "text": [
      "[2, 4, 6]\n"
     ]
    }
   ],
   "source": [
    "print(filter_even_numbers([1, 2, 3, 4, 5, 6]))"
   ]
  },
  {
   "cell_type": "markdown",
   "id": "0cc6e650",
   "metadata": {},
   "source": [
    "---\n",
    "##### 문제3. 문자열에서 중복된 철자 제거하기"
   ]
  },
  {
   "cell_type": "code",
   "execution_count": 11,
   "id": "3f622902",
   "metadata": {},
   "outputs": [],
   "source": [
    "def remove_duplicates(text):\n",
    "    res = \"\"    # 겹치지 않는 철자들의 합\n",
    "    for c in text:\n",
    "        if c not in res:\n",
    "            res += c\n",
    "    return res"
   ]
  },
  {
   "cell_type": "code",
   "execution_count": 12,
   "id": "092b0562",
   "metadata": {},
   "outputs": [
    {
     "name": "stdout",
     "output_type": "stream",
     "text": [
      "ban\n",
      "misp\n"
     ]
    }
   ],
   "source": [
    "print(remove_duplicates(\"banana\"))  # 출력: \"ban\"\n",
    "print(remove_duplicates(\"mississippi\"))  # 출력: \"misp\""
   ]
  },
  {
   "cell_type": "markdown",
   "id": "9712dfc5",
   "metadata": {},
   "source": [
    "---\n",
    "##### 문제4. 가장 많이 나온 값 출력하기"
   ]
  },
  {
   "cell_type": "code",
   "execution_count": 13,
   "id": "4621187d",
   "metadata": {},
   "outputs": [],
   "source": [
    "def get_mode(numbers):\n",
    "    count = {}\n",
    "    for num in numbers:\n",
    "        count[num] = count.get(num,0) + 1\n",
    "    return max(count.keys(), key=count.get)"
   ]
  },
  {
   "cell_type": "code",
   "execution_count": 14,
   "id": "97a38b60",
   "metadata": {},
   "outputs": [
    {
     "name": "stdout",
     "output_type": "stream",
     "text": [
      "3\n",
      "7\n"
     ]
    }
   ],
   "source": [
    "print(get_mode([1, 2, 2, 3, 3, 3, 4]))  # 출력: 3\n",
    "print(get_mode([7, 7, 1, 1, 7, 2]))    # 출력: 7"
   ]
  },
  {
   "cell_type": "markdown",
   "id": "4bc7d42c",
   "metadata": {},
   "source": [
    "#####"
   ]
  }
 ],
 "metadata": {
  "kernelspec": {
   "display_name": ".awspython",
   "language": "python",
   "name": "python3"
  },
  "language_info": {
   "codemirror_mode": {
    "name": "ipython",
    "version": 3
   },
   "file_extension": ".py",
   "mimetype": "text/x-python",
   "name": "python",
   "nbconvert_exporter": "python",
   "pygments_lexer": "ipython3",
   "version": "3.10.12"
  }
 },
 "nbformat": 4,
 "nbformat_minor": 5
}
