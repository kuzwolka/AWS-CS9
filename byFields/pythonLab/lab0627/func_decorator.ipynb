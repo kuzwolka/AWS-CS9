{
 "cells": [
  {
   "cell_type": "markdown",
   "id": "fa350d1c",
   "metadata": {},
   "source": [
    "### Function Decorator\n",
    "- using an original function, we can decorate it with `@` thus implementing new functionality\n",
    "- **below example**\n",
    "    - test() gets function as an input\n",
    "    - wrapper wraps around original function\n",
    "    - when test() decorator is called, wrapper() is returned\n",
    "    - this is the basic structure of the decorator"
   ]
  },
  {
   "cell_type": "code",
   "execution_count": 1,
   "id": "26d20881",
   "metadata": {},
   "outputs": [],
   "source": [
    "def test(function):\n",
    "    def wrapper():\n",
    "        print(\"starting decoration\")\n",
    "        function()\n",
    "        print(\"decoration ended\")\n",
    "    return wrapper"
   ]
  },
  {
   "cell_type": "markdown",
   "id": "9ed7d4b8",
   "metadata": {},
   "source": [
    "- function defined below `@test` is decorated by test decorator defined above "
   ]
  },
  {
   "cell_type": "code",
   "execution_count": 2,
   "id": "06aa9f43",
   "metadata": {},
   "outputs": [
    {
     "name": "stdout",
     "output_type": "stream",
     "text": [
      "starting decoration\n",
      "hello world!\n",
      "decoration ended\n"
     ]
    }
   ],
   "source": [
    "@test\n",
    "def hello():\n",
    "    print(\"hello world!\")\n",
    "\n",
    "hello()"
   ]
  }
 ],
 "metadata": {
  "kernelspec": {
   "display_name": ".awspython",
   "language": "python",
   "name": "python3"
  },
  "language_info": {
   "codemirror_mode": {
    "name": "ipython",
    "version": 3
   },
   "file_extension": ".py",
   "mimetype": "text/x-python",
   "name": "python",
   "nbconvert_exporter": "python",
   "pygments_lexer": "ipython3",
   "version": "3.10.12"
  }
 },
 "nbformat": 4,
 "nbformat_minor": 5
}
