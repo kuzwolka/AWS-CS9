{
 "cells": [
  {
   "cell_type": "markdown",
   "id": "7a11ac8a",
   "metadata": {},
   "source": [
    "- 파이썬은 스크립트 언어 이므로 파일 실행중 오류가 발생하면 프로그램은 중도에 중단이된다. \n",
    "- 오류가 발생하더라도 지정된 동작이 일어날 수 있도록 하기위한 목적으로 예외 처리를 둘 수 있다.  \n",
    "- 에러 대부분은 Exception 클래스의 파생 클래스 이다.\n",
    "- Exception 클래스를 상속 받아서 나만의 에러를 만들 수도 있다.\n",
    "- error example\n",
    "    - ImportError: 임포트 하려는 것을 못 찾음\n",
    "    - ModuleNotFoundError: 모듈을 못 찾음\n",
    "    - SyntaxError: 대부분의 문법 오류\n",
    "    - IndentationError: 들여쓰기 오류\n",
    "    - TypeError: 잘못된 자료형을 사용한 오류\n",
    "    - ValueError: 자료형은 문제없지만 값이 문제인 경우\n",
    "    - ZeroDivisionError: 0으로 나누기를 했을 때\n",
    "    - IndexError: 인덱스가 범위를 벗어난 오류\n",
    "    - KeyError: 참조하려는 키가 기존 키 집합에 없음\n",
    "    - StopIteration: 이터레이터에 의해 생성된 항목이 더 없다는 것을 알려주기 위해 나옴\n"
   ]
  },
  {
   "cell_type": "markdown",
   "id": "29b73a86",
   "metadata": {},
   "source": [
    "---\n",
    "1. try, exept\n",
    "    - 오류 발생시 except 블록이 수행\n",
    "    - basic structure\n",
    "        ```\n",
    "        try:\n",
    "            ...\n",
    "        except [발생 오류[as 오류 메시지 변수]]:\n",
    "            ...\n",
    "        ```\n",
    "    - example case\n",
    "        - multiple error handling\n",
    "            ```\n",
    "            try:\n",
    "                index, x = map(int, input('인덱스와 나눌 숫자를 입력하세요: ').split())\n",
    "                print(y[index] / x)\n",
    "            except ZeroDivisionError:    # 숫자를 0으로 나눠서 에러가 발생했을 때 실행됨\n",
    "                print('숫자를 0으로 나눌 수 없습니다.')\n",
    "            except IndexError:           # 범위를 벗어난 인덱스에 접근하여 에러가 발생했을 때 실행됨\n",
    "                print('잘못된 인덱스입니다.')\n",
    "            ```\n",
    "            - handles based on error's type\n",
    "        - rasing exception\n",
    "            ```\n",
    "            try:\n",
    "                x = int(input('3의 배수를 입력하세요: '))\n",
    "                if x % 3 != 0:            # x가 3의 배수가 아니면\n",
    "                    raise Exception('3의 배수가 아닙니다.')    # 예외를 발생시킴\n",
    "                print(x)\n",
    "            except Exception as e:        # 예외가 발생했을 때 실행됨\n",
    "                print('예외가 발생했습니다.', e)\n",
    "            ```"
   ]
  },
  {
   "cell_type": "code",
   "execution_count": 7,
   "id": "fe8f9ff9",
   "metadata": {},
   "outputs": [
    {
     "name": "stdout",
     "output_type": "stream",
     "text": [
      "ERROR!!! list index out of range\n"
     ]
    }
   ],
   "source": [
    "try:\n",
    "    list1 = [10,20,30]\n",
    "    x = int(input(\"give me some int: \"))\n",
    "    y = int(input(\"give me some list index: \"))\n",
    "\n",
    "    print(\"result:\",list1[y]/x)\n",
    "except Exception as e:\n",
    "    print(\"ERROR!!!\",e)"
   ]
  }
 ],
 "metadata": {
  "kernelspec": {
   "display_name": ".awspython",
   "language": "python",
   "name": "python3"
  },
  "language_info": {
   "codemirror_mode": {
    "name": "ipython",
    "version": 3
   },
   "file_extension": ".py",
   "mimetype": "text/x-python",
   "name": "python",
   "nbconvert_exporter": "python",
   "pygments_lexer": "ipython3",
   "version": "3.10.12"
  }
 },
 "nbformat": 4,
 "nbformat_minor": 5
}
