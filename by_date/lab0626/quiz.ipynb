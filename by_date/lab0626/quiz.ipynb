{
 "cells": [
  {
   "cell_type": "markdown",
   "id": "4d08a902",
   "metadata": {},
   "source": [
    "### QUIZ 조건\n",
    "사용자로부터 이름과 전화번호를 입력 받는다. \n",
    "\n",
    "`{‘name’: ‘gildong’, ‘phone’: ‘01011111111’}` 해당 데이터를 test.json 파일로 저장하기\n",
    "\n",
    "정상적으로 저장까지 끝나면 파이썬 결과 화면에도\n",
    "\n",
    "‘`홍길동 - 01011111111`’ 과 같이 출력되도록 해 보세요.\n",
    "\n"
   ]
  },
  {
   "cell_type": "markdown",
   "id": "025b4acd",
   "metadata": {},
   "source": [
    "---\n",
    "##### 기본 설정\n",
    "라이브러리, 파일명의 상수"
   ]
  },
  {
   "cell_type": "code",
   "execution_count": 17,
   "id": "c6b4593b",
   "metadata": {},
   "outputs": [],
   "source": [
    "import json, os\n",
    "FILE_NAME = 'projfile/first_quiz.json'"
   ]
  },
  {
   "cell_type": "markdown",
   "id": "6b2ce7f7",
   "metadata": {},
   "source": [
    "##### 파일의 존재 여부에 따른 처리\n",
    "파일이 존재할 경우\n",
    "- 과거 작업내역 불러와서 리스트에 저장\n",
    "\n",
    "파일이 존재하지 않을 경우\n",
    "- 신규 작업으로 간주하고 새로운 리스트 생성함"
   ]
  },
  {
   "cell_type": "code",
   "execution_count": 18,
   "id": "78aee1a2",
   "metadata": {},
   "outputs": [],
   "source": [
    "if os.path.exists(FILE_NAME):\n",
    "    with open(FILE_NAME, \"r\") as f:\n",
    "        user_array = json.load(f)\n",
    "else:\n",
    "    user_array = []"
   ]
  },
  {
   "cell_type": "markdown",
   "id": "1559420e",
   "metadata": {},
   "source": [
    "##### 유저 입력 처리\n",
    "\n",
    "최종 유저 입력 딕셔너리 형태로 `user_array`에 추가"
   ]
  },
  {
   "cell_type": "code",
   "execution_count": 19,
   "id": "ef442d0e",
   "metadata": {},
   "outputs": [],
   "source": [
    "\n",
    "name = input(\"What is your name: \")\n",
    "phone_num = input(\"What is your phone number: \")\n",
    "\n",
    "user_array.append({\"name\": name, \"phone\": phone_num})"
   ]
  },
  {
   "cell_type": "markdown",
   "id": "1a375101",
   "metadata": {},
   "source": [
    "##### 파일에 데이터 작성\n",
    "앞서 구성된 `user_array`의 데이터 json 형식으로 파일에 작성"
   ]
  },
  {
   "cell_type": "code",
   "execution_count": 20,
   "id": "eb2b3afe",
   "metadata": {},
   "outputs": [],
   "source": [
    "with open(FILE_NAME, 'w', encoding='UTF-8') as f:\n",
    "    json.dump(user_array, f, ensure_ascii=False, indent=2)"
   ]
  },
  {
   "cell_type": "markdown",
   "id": "19ae8b43",
   "metadata": {},
   "source": [
    "##### 최종 작업 내역 출력\n",
    "파일 내용과 `user_array` 내용 동일하기 때문에 리스트 내부 딕셔너리 항목 출력"
   ]
  },
  {
   "cell_type": "code",
   "execution_count": 21,
   "id": "2a28bd4f",
   "metadata": {},
   "outputs": [
    {
     "name": "stdout",
     "output_type": "stream",
     "text": [
      "hyunkyo - 0102067\n",
      "asdf - 23458\n",
      "hello - 666\n"
     ]
    }
   ],
   "source": [
    "for x in user_array:\n",
    "    print(f\"{x['name']} - {x['phone']}\")"
   ]
  }
 ],
 "metadata": {
  "kernelspec": {
   "display_name": ".awspython",
   "language": "python",
   "name": "python3"
  },
  "language_info": {
   "codemirror_mode": {
    "name": "ipython",
    "version": 3
   },
   "file_extension": ".py",
   "mimetype": "text/x-python",
   "name": "python",
   "nbconvert_exporter": "python",
   "pygments_lexer": "ipython3",
   "version": "3.10.12"
  }
 },
 "nbformat": 4,
 "nbformat_minor": 5
}
