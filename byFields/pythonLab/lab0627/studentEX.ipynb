{
 "cells": [
  {
   "cell_type": "code",
   "execution_count": 21,
   "id": "b4336c18",
   "metadata": {},
   "outputs": [],
   "source": [
    "class Student:\n",
    "    def __init__(self, name, korean, math, english):\n",
    "        self.name = name\n",
    "        self.korean = korean\n",
    "        self.math = math\n",
    "        self.english = english\n",
    "    \n",
    "    def score_sum(self):\n",
    "        return self.math + self.korean + self.english\n",
    "\n",
    "    def score_avg(self):\n",
    "        return self.score_sum()/3\n",
    "    \n",
    "    def stud_info_printer(self):\n",
    "        print(f\"{self.name}\\t{self.score_sum()}\\t{format(self.score_avg(), '.2f')}\")"
   ]
  },
  {
   "cell_type": "code",
   "execution_count": 22,
   "id": "cd8b6744",
   "metadata": {},
   "outputs": [],
   "source": [
    "students = [\n",
    "    Student(\"홍길동\", 45, 16 ,9),\n",
    "    Student(\"김철수\", 415, 126 ,95)\n",
    "]"
   ]
  },
  {
   "cell_type": "code",
   "execution_count": 23,
   "id": "20a1c07e",
   "metadata": {},
   "outputs": [
    {
     "name": "stdout",
     "output_type": "stream",
     "text": [
      "Name\tSum\tAverage\n",
      "홍길동\t70\t23.33\n",
      "김철수\t636\t212.00\n"
     ]
    }
   ],
   "source": [
    "print(\"Name\",\"Sum\",\"Average\",sep=\"\\t\")\n",
    "for x in students:\n",
    "    x.stud_info_printer()"
   ]
  }
 ],
 "metadata": {
  "kernelspec": {
   "display_name": ".awspython",
   "language": "python",
   "name": "python3"
  },
  "language_info": {
   "codemirror_mode": {
    "name": "ipython",
    "version": 3
   },
   "file_extension": ".py",
   "mimetype": "text/x-python",
   "name": "python",
   "nbconvert_exporter": "python",
   "pygments_lexer": "ipython3",
   "version": "3.10.12"
  }
 },
 "nbformat": 4,
 "nbformat_minor": 5
}
